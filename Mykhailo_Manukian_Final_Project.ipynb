{
 "cells": [
  {
   "cell_type": "code",
   "execution_count": null,
   "metadata": {},
   "outputs": [],
   "source": [
    "%%html\n",
    "<style>\n",
    "    #notebook-container{\n",
    "    width: 100%\n",
    "    }\n",
    "</style>"
   ]
  },
  {
   "cell_type": "code",
   "execution_count": null,
   "metadata": {},
   "outputs": [],
   "source": [
    "import altair as alt\n",
    "import pandas as pd\n",
    "\n",
    "from altair import datum\n",
    "from vega_datasets import data\n",
    "from geopy.geocoders import Nominatim\n",
    "\n",
    "# alt.renderers.enable('notebook')"
   ]
  },
  {
   "cell_type": "code",
   "execution_count": null,
   "metadata": {},
   "outputs": [],
   "source": [
    "alt.data_transformers.enable('default', max_rows=None) "
   ]
  },
  {
   "cell_type": "code",
   "execution_count": null,
   "metadata": {},
   "outputs": [],
   "source": [
    "# df = pd.read_csv('https://raw.githubusercontent.com/kai-wren/UCU_DataViz/master/gapminder.csv')\n",
    "df = pd.read_csv('scrubbed_UFO.csv')\n",
    "df = df.rename(columns={'longitude ': 'longitude'})\n",
    "df.replace(to_replace='&#39', value='\\'', inplace=True, regex=True)\n",
    "df.replace(to_replace='&#44', value=',', inplace=True, regex=True)\n",
    "df['type'] = \"UFO\"\n",
    "\n",
    "df.head()"
   ]
  },
  {
   "cell_type": "code",
   "execution_count": null,
   "metadata": {},
   "outputs": [],
   "source": [
    "df_meteorite = pd.read_csv('meteorite-landings.csv')\n",
    "df_meteorite['type'] = \"Meteorite\"\n",
    "\n",
    "df_meteorite.head()"
   ]
  },
  {
   "cell_type": "markdown",
   "metadata": {},
   "source": [
    "Question to be answered: <br>\n",
    "Are there places on Earth which have more UFOs spotted than in other places. <br>\n",
    "\n",
    "Here I am plotting a point indicating one record each. This allow to see how encounters are spread on world map. Points are located based on latitude and longitude values. Hence if those values are empty - points located wrongly in the top left corner. In the end density of points indicates places with bigger amounts of contacts. <br>\n",
    "\n",
    "For interactivity I've added barchart with interval selection to limited amount of dots to be displayed."
   ]
  },
  {
   "cell_type": "code",
   "execution_count": null,
   "metadata": {},
   "outputs": [],
   "source": [
    "base_ufo = alt.Chart(df)\n",
    "\n",
    "source = alt.topo_feature(data.world_110m.url, 'countries')\n",
    "\n",
    "# slider = alt.binding_range(min=1900, max=2015, step=1, name='Year')\n",
    "# selector = alt.selection_single(name=\"YearSelector\", fields=['cutoff'],\n",
    "#                                 bind=slider, init={'cutoff': 2015})\n",
    "\n",
    "brush = alt.selection_interval(encodings=['x'],empty='all')\n",
    "\n",
    "base_world = alt.Chart(source).mark_geoshape(\n",
    "    fill='#666666',\n",
    "    stroke='white'\n",
    ")\n",
    "\n",
    "earth = base_world.project('naturalEarth1')\n",
    "\n",
    "points = base_ufo.mark_circle(\n",
    "    size=10,\n",
    "    color='red'\n",
    ").encode(\n",
    "    latitude='latitude:Q',\n",
    "    longitude='longitude:Q',\n",
    "    tooltip=['shape:N', 'city:N', 'duration (hours/min):N', 'date posted:N']\n",
    ").transform_filter(brush)\n",
    "# .add_selection(selector).transform_calculate(year = \"year(datum.datetime)\").transform_filter(datum.year <= selector.cutoff)\n",
    "\n",
    "area_ufo = base_ufo.mark_bar().encode(\n",
    "x=alt.X('year(datetime):N'),\n",
    "y=alt.Y('count()'),\n",
    "opacity=alt.value(0.3)\n",
    ")\n",
    "\n",
    "area_ufo_notselected = area_ufo.add_selection(brush)\n",
    "area_ufo_selected = area_ufo.mark_bar().encode(opacity=alt.value(1)).transform_filter(brush)\n",
    "\n",
    "(earth+points).properties(width=1200, height=600) & (area_ufo_notselected + area_ufo_selected).properties(width=1200, height=100)"
   ]
  },
  {
   "cell_type": "markdown",
   "metadata": {},
   "source": [
    "Question to be answered: <br>\n",
    "Does the amount of spotted UFO increase with the course of time? This is especially interesting with regards to last 20-30 years with widespread communication technologies. <br>\n",
    "\n",
    "Here I plot simple barchart to highlight an answer to the question. In addition I've added another chart which allows to see in which month and day how many observation happens. <br>\n",
    "\n",
    "For interactivity, you could select one particular year or years and right hand side chart will be updated for selected years."
   ]
  },
  {
   "cell_type": "code",
   "execution_count": null,
   "metadata": {},
   "outputs": [],
   "source": [
    "base_ufo = alt.Chart(df)\n",
    "\n",
    "selector = alt.selection_multi(encodings=['x'],empty='all')\n",
    "\n",
    "bars = base_ufo.mark_bar().encode(\n",
    "y=alt.Y('count()'),\n",
    "x=alt.X('year(datetime):N'),\n",
    "color = alt.condition(selector, alt.value('blue'), alt.value('gray'))\n",
    ").add_selection(selector\n",
    ").properties(width=1000, height=500)\n",
    "\n",
    "ticks = base_ufo.mark_point().encode(\n",
    "y=alt.Y('month(datetime):N'),\n",
    "x=alt.X('date(datetime):O'),\n",
    "size=alt.Size('count()')\n",
    ").transform_filter(selector\n",
    ").properties(width=600, height=500)\n",
    "\n",
    "bars | ticks"
   ]
  },
  {
   "cell_type": "markdown",
   "metadata": {},
   "source": [
    "Question to be answered: <br>\n",
    "Do types of spotted UFOs equally spread or only appears in certain locations.\n",
    "\n",
    "I'be made same map, but with intractive legend this time to allow selection of particular shape of UFO spotted. I'm thinking on adding some barcharts, which will indicate some proportions."
   ]
  },
  {
   "cell_type": "code",
   "execution_count": null,
   "metadata": {},
   "outputs": [],
   "source": [
    "base_ufo = alt.Chart(df)\n",
    "\n",
    "source = alt.topo_feature(data.world_110m.url, 'countries')\n",
    "\n",
    "selection = alt.selection_multi(fields=['shape'], bind='legend')\n",
    "\n",
    "base_world = alt.Chart(source).mark_geoshape(\n",
    "    fill='#666666',\n",
    "    stroke='white'\n",
    ")\n",
    "\n",
    "earth = base_world.project('naturalEarth1')\n",
    "\n",
    "points = base_ufo.mark_circle(\n",
    "    size=10\n",
    ").encode(\n",
    "    latitude='latitude:Q',\n",
    "    longitude='longitude:Q',\n",
    "    color=alt.Color('shape:N'),\n",
    "    tooltip=['shape:N', 'city:N'],\n",
    "    opacity=alt.condition(selection, alt.value(1), alt.value(0))\n",
    ").add_selection(\n",
    "    selection\n",
    ").properties(width=1200, height=600)\n",
    "\n",
    "bars = base_ufo.mark_bar().encode(\n",
    "x=alt.X('shape:N', sort='y'),\n",
    "y=alt.Y('count()'),\n",
    "    \n",
    ").properties(width=600, height=600)\n",
    "\n",
    "(earth+points)| bars"
   ]
  },
  {
   "cell_type": "markdown",
   "metadata": {},
   "source": [
    "Question to be answered: <br>\n",
    "How long UFO were observed per country in the dataset?\n",
    "\n",
    "I was going to represent each country as bubble on world map size of which indicats how long overall duration per country. Unfortunately, I've discovered that country name is almost missing in the dataset. Hence I will need to enrich it first using some other services. For now Canada and UK indicate example how it should look like."
   ]
  },
  {
   "cell_type": "code",
   "execution_count": null,
   "metadata": {},
   "outputs": [],
   "source": [
    "base_ufo = alt.Chart(df)\n",
    "\n",
    "source = alt.topo_feature(data.world_110m.url, 'countries')\n",
    "\n",
    "base_world = alt.Chart(source).mark_geoshape(\n",
    "    fill='#666666',\n",
    "    stroke='white'\n",
    ")\n",
    "\n",
    "earth = base_world.project('naturalEarth1')\n",
    "\n",
    "points = base_ufo.mark_circle(\n",
    "    size=10\n",
    ").encode(\n",
    "    latitude='latitude:Q',\n",
    "    longitude='longitude:Q',\n",
    "    size=alt.Size('duration:Q'),\n",
    "    tooltip=['country:N']\n",
    ").transform_aggregate(\n",
    "latitude='mean(latitude)',\n",
    "longitude='mean(longitude)',\n",
    "duration = 'sum(duration (seconds))',\n",
    "groupby=['country']\n",
    ")\n",
    "\n",
    "(earth+points).properties(width=1200, height=600)\n",
    "\n",
    "# test = base_ufo.mark_bar(\n",
    "#     size=10\n",
    "# ).encode(\n",
    "#     x='country:N',\n",
    "#     y='sum(duration (seconds)):Q',\n",
    "# )\n",
    "# # .transform_aggregate(\n",
    "# # latitude='mean(latitude)',\n",
    "# # longitude='mean(longitude)',\n",
    "# # duration = 'sum(duration (seconds))',\n",
    "# # groupby=['country']\n",
    "# # )\n",
    "\n",
    "# test"
   ]
  },
  {
   "cell_type": "markdown",
   "metadata": {},
   "source": [
    "Question to be answered: <br>\n",
    "I would like to match data with meteorite landing dataset to check that maybe some spotted UFOs were just meteorites and whether or not the concentration of spotted UFO coincides with the concentration of observed meteorites on the global map.\n",
    "\n"
   ]
  },
  {
   "cell_type": "code",
   "execution_count": null,
   "metadata": {},
   "outputs": [],
   "source": [
    "base_meteorite = alt.Chart(df_meteorite)\n",
    "base_ufo = alt.Chart(df)\n",
    "\n",
    "source = alt.topo_feature(data.world_110m.url, 'countries')\n",
    "\n",
    "mouseover = alt.selection_single(on='mouseover', fields=['type'])\n",
    "\n",
    "base_world = alt.Chart(source).mark_geoshape(\n",
    "    fill='#666666',\n",
    "    stroke='white'\n",
    ")\n",
    "\n",
    "earth = base_world.project('naturalEarth1')\n",
    "\n",
    "points_meteorite = base_meteorite.mark_circle(\n",
    "    size=10,\n",
    ").encode(\n",
    "    latitude='reclat:Q',\n",
    "    longitude='reclong:Q',\n",
    "    color=alt.condition(mouseover, alt.Color('type:N'), alt.value('gray')),\n",
    "#     tooltip=['shape:N', 'city:N', 'duration (hours/min):N', 'date posted:N']\n",
    "    opacity=alt.value(0.5)\n",
    ").add_selection(mouseover)\n",
    "\n",
    "points_ufo = base_ufo.mark_circle(\n",
    "    size=10,\n",
    ").encode(\n",
    "    latitude='latitude:Q',\n",
    "    longitude='longitude:Q',\n",
    "    color=alt.condition(mouseover, alt.Color('type:N'), alt.value('gray')),\n",
    "    tooltip=['shape:N', 'city:N', 'duration (hours/min):N', 'date posted:N'],\n",
    "    opacity=alt.value(0.5)\n",
    ")\n",
    "\n",
    "(earth+points_ufo+points_meteorite).properties(width=1200, height=600)"
   ]
  }
 ],
 "metadata": {
  "kernelspec": {
   "display_name": "Python 3",
   "language": "python",
   "name": "python3"
  },
  "language_info": {
   "codemirror_mode": {
    "name": "ipython",
    "version": 3
   },
   "file_extension": ".py",
   "mimetype": "text/x-python",
   "name": "python",
   "nbconvert_exporter": "python",
   "pygments_lexer": "ipython3",
   "version": "3.7.3"
  }
 },
 "nbformat": 4,
 "nbformat_minor": 2
}
