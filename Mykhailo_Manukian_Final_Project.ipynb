{
 "cells": [
  {
   "cell_type": "code",
   "execution_count": null,
   "metadata": {},
   "outputs": [],
   "source": [
    "%%html\n",
    "<style>\n",
    "    #notebook-container{\n",
    "    width: 100%\n",
    "    }\n",
    "</style>"
   ]
  },
  {
   "cell_type": "code",
   "execution_count": null,
   "metadata": {},
   "outputs": [],
   "source": [
    "import altair as alt\n",
    "import pandas as pd\n",
    "\n",
    "from altair import datum\n",
    "from vega_datasets import data"
   ]
  },
  {
   "cell_type": "code",
   "execution_count": null,
   "metadata": {},
   "outputs": [],
   "source": [
    "alt.data_transformers.enable('default', max_rows=None) "
   ]
  },
  {
   "cell_type": "code",
   "execution_count": null,
   "metadata": {},
   "outputs": [],
   "source": [
    "# df = pd.read_csv('https://raw.githubusercontent.com/kai-wren/UCU_DataViz/master/gapminder.csv')\n",
    "df = pd.read_csv('scrubbed_UFO.csv')\n",
    "df = df.rename(columns={'longitude ': 'longitude'})\n",
    "df.replace(to_replace='&#39', value='\\'', inplace=True, regex=True)\n",
    "df.replace(to_replace='&#44', value=',', inplace=True, regex=True)\n",
    "\n",
    "df.head()"
   ]
  },
  {
   "cell_type": "markdown",
   "metadata": {},
   "source": [
    "Question to be answered: <br>\n",
    "Are there places on Earth which have more UFOs spotted than in other places."
   ]
  },
  {
   "cell_type": "code",
   "execution_count": null,
   "metadata": {},
   "outputs": [],
   "source": [
    "base_ufo = alt.Chart(df)\n",
    "\n",
    "source = alt.topo_feature(data.world_110m.url, 'countries')\n",
    "\n",
    "base_world = alt.Chart(source).mark_geoshape(\n",
    "    fill='#666666',\n",
    "    stroke='white'\n",
    ")\n",
    "\n",
    "earth = base_world.project('naturalEarth1')\n",
    "\n",
    "points = base_ufo.mark_circle(\n",
    "    size=10,\n",
    "    color='red'\n",
    ").encode(\n",
    "    latitude='latitude:Q',\n",
    "    longitude='longitude:Q',\n",
    "    tooltip=['shape:N', 'city:N']\n",
    ")\n",
    "\n",
    "(earth+points).properties(width=1200, height=600)"
   ]
  },
  {
   "cell_type": "markdown",
   "metadata": {},
   "source": [
    "Question to be answered: <br>\n",
    "Does the amount of spotted UFO increase with the course of time? This is especially interesting with regards to last 20-30 years with widespread communication technologies"
   ]
  },
  {
   "cell_type": "code",
   "execution_count": null,
   "metadata": {},
   "outputs": [],
   "source": [
    "base_ufo = alt.Chart(df)\n",
    "\n",
    "bars = base_ufo.mark_bar().encode(\n",
    "y=alt.Y('count()'),\n",
    "x=alt.X('year(datetime):T')\n",
    ")\n",
    "\n",
    "bars.properties(width=1200, height=600)"
   ]
  },
  {
   "cell_type": "markdown",
   "metadata": {},
   "source": [
    "Question to be answered:\n",
    "Do types of spotted UFOs equally spread or only appears in certain locations."
   ]
  },
  {
   "cell_type": "code",
   "execution_count": null,
   "metadata": {},
   "outputs": [],
   "source": [
    "base_ufo = alt.Chart(df)\n",
    "\n",
    "source = alt.topo_feature(data.world_110m.url, 'countries')\n",
    "\n",
    "selection = alt.selection_multi(fields=['shape'], bind='legend')\n",
    "\n",
    "base_world = alt.Chart(source).mark_geoshape(\n",
    "    fill='#666666',\n",
    "    stroke='white'\n",
    ")\n",
    "\n",
    "earth = base_world.project('naturalEarth1')\n",
    "\n",
    "points = base_ufo.mark_circle(\n",
    "    size=10\n",
    ").encode(\n",
    "    latitude='latitude:Q',\n",
    "    longitude='longitude:Q',\n",
    "    color=alt.Color('shape:N'),\n",
    "    tooltip=['shape:N', 'city:N'],\n",
    "    opacity=alt.condition(selection, alt.value(1), alt.value(0))\n",
    ").add_selection(\n",
    "    selection\n",
    ")\n",
    "\n",
    "(earth+points).properties(width=1200, height=600)"
   ]
  },
  {
   "cell_type": "markdown",
   "metadata": {},
   "source": [
    "Question to be answered:\n",
    "How long UFO were observed per country in the dataset?"
   ]
  },
  {
   "cell_type": "code",
   "execution_count": null,
   "metadata": {},
   "outputs": [],
   "source": [
    "base_ufo = alt.Chart(df)\n",
    "\n",
    "source = alt.topo_feature(data.world_110m.url, 'countries')\n",
    "\n",
    "base_world = alt.Chart(source).mark_geoshape(\n",
    "    fill='#666666',\n",
    "    stroke='white'\n",
    ")\n",
    "\n",
    "earth = base_world.project('naturalEarth1')\n",
    "\n",
    "points = base_ufo.mark_circle(\n",
    "    size=10\n",
    ").encode(\n",
    "    latitude='latitude:Q',\n",
    "    longitude='longitude:Q',\n",
    "    size=alt.Size('duration:Q'),\n",
    "    tooltip=['country:N']\n",
    ").transform_aggregate(\n",
    "latitude='mean(latitude)',\n",
    "longitude='mean(longitude)',\n",
    "duration = 'sum(duration (seconds))',\n",
    "groupby=['country']\n",
    ")\n",
    "\n",
    "# (earth+points).properties(width=1200, height=600)\n",
    "\n",
    "test = base_ufo.mark_bar(\n",
    "    size=10\n",
    ").encode(\n",
    "    x='country:N',\n",
    "    y='sum(duration (seconds)):Q',\n",
    ")\n",
    "# .transform_aggregate(\n",
    "# latitude='mean(latitude)',\n",
    "# longitude='mean(longitude)',\n",
    "# duration = 'sum(duration (seconds))',\n",
    "# groupby=['country']\n",
    "# )\n",
    "\n",
    "test"
   ]
  }
 ],
 "metadata": {
  "kernelspec": {
   "display_name": "Python 3",
   "language": "python",
   "name": "python3"
  },
  "language_info": {
   "codemirror_mode": {
    "name": "ipython",
    "version": 3
   },
   "file_extension": ".py",
   "mimetype": "text/x-python",
   "name": "python",
   "nbconvert_exporter": "python",
   "pygments_lexer": "ipython3",
   "version": "3.7.3"
  }
 },
 "nbformat": 4,
 "nbformat_minor": 2
}
